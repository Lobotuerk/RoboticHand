{
 "cells": [
  {
   "cell_type": "code",
   "execution_count": 1,
   "metadata": {},
   "outputs": [
    {
     "name": "stderr",
     "output_type": "stream",
     "text": [
      "E:\\ProgramData\\Anaconda3\\envs\\py35\\lib\\site-packages\\h5py\\__init__.py:36: FutureWarning: Conversion of the second argument of issubdtype from `float` to `np.floating` is deprecated. In future, it will be treated as `np.float64 == np.dtype(float).type`.\n",
      "  from ._conv import register_converters as _register_converters\n"
     ]
    }
   ],
   "source": [
    "import numpy as np\n",
    "import time\n",
    "import tensorflow as tf\n",
    "from tensorflow.keras.models import Sequential\n",
    "from tensorflow.keras.layers import Dense, Dropout, Activation\n",
    "from tensorflow.keras.callbacks import TensorBoard\n",
    "from tensorflow.keras.optimizers import Adam\n",
    "import os"
   ]
  },
  {
   "cell_type": "code",
   "execution_count": 2,
   "metadata": {},
   "outputs": [],
   "source": [
    "Y = np.loadtxt(\"TestY.csv\", delimiter=\",\")\n",
    "X = np.loadtxt(\"TestX.csv\", delimiter=\",\")"
   ]
  },
  {
   "cell_type": "code",
   "execution_count": 6,
   "metadata": {},
   "outputs": [
    {
     "name": "stdout",
     "output_type": "stream",
     "text": [
      "(197, 8)\n",
      "(197, 5)\n",
      "90.0\n",
      "-65.0\n",
      "1.089\n",
      "0.0\n",
      "(197, 1)\n"
     ]
    }
   ],
   "source": [
    "print(X.shape)\n",
    "print(Y.shape)\n",
    "print(np.amax(X))\n",
    "print(np.amin(X))\n",
    "print(np.amax(Y))\n",
    "print(np.amin(Y))\n",
    "print(Y[0:,0:1].shape)"
   ]
  },
  {
   "cell_type": "code",
   "execution_count": 7,
   "metadata": {},
   "outputs": [
    {
     "name": "stdout",
     "output_type": "stream",
     "text": [
      "1.0\n",
      "0.0\n",
      "1.0\n",
      "0.0\n"
     ]
    }
   ],
   "source": [
    "#Change values to [0,1]\n",
    "X = (((X - np.amin(X)) * (1)) / (np.amax(X) - np.amin(X)))\n",
    "Y = (((Y - np.amin(Y)) * (1)) / (np.amax(Y) - np.amin(Y)))\n",
    "print(np.amax(X))\n",
    "print(np.amin(X))\n",
    "print(np.amax(Y))\n",
    "print(np.amin(Y))"
   ]
  },
  {
   "cell_type": "code",
   "execution_count": 10,
   "metadata": {},
   "outputs": [],
   "source": [
    "config = tf.ConfigProto( device_count = {'GPU': 1})\n",
    "sess = tf.Session(config=config)\n",
    "tf.keras.backend.set_session(sess)"
   ]
  },
  {
   "cell_type": "code",
   "execution_count": 11,
   "metadata": {},
   "outputs": [],
   "source": [
    "model = Sequential()\n",
    "model.add(Dense(20, input_dim=X.shape[1]))\n",
    "model.add(Activation('relu'))\n",
    "model.add(Dropout(0.2))\n",
    "model.add(Dense(40))\n",
    "model.add(Activation('relu'))\n",
    "model.add(Dropout(0.2))\n",
    "model.add(Dense(20))\n",
    "model.add(Activation('relu'))\n",
    "model.add(Dropout(0.2))\n",
    "model.add(Dense(10))\n",
    "model.add(Activation('relu'))\n",
    "model.add(Dropout(0.2))\n",
    "model.add(Dense(5))\n",
    "model.add(Activation('sigmoid'))"
   ]
  },
  {
   "cell_type": "code",
   "execution_count": 12,
   "metadata": {},
   "outputs": [],
   "source": [
    "NAME = 'logs/testMSE-FULLFINGERS'\n",
    "\n",
    "tensorboard = TensorBoard(log_dir=NAME)\n",
    "adam = Adam(lr=0.001, beta_1=0.9, beta_2=0.999, epsilon=None, decay=0.01, amsgrad=False)\n",
    "model.compile(loss='mean_squared_error', optimizer='adam', metrics=['accuracy'])"
   ]
  },
  {
   "cell_type": "code",
   "execution_count": 13,
   "metadata": {},
   "outputs": [
    {
     "name": "stdout",
     "output_type": "stream",
     "text": [
      "Train on 167 samples, validate on 30 samples\n",
      "Epoch 1/1000\n",
      "167/167 [==============================] - 1s 6ms/step - loss: 0.0750 - acc: 0.1976 - val_loss: 0.0722 - val_acc: 0.1667\n",
      "Epoch 2/1000\n",
      "167/167 [==============================] - 0s 2ms/step - loss: 0.0730 - acc: 0.2216 - val_loss: 0.0714 - val_acc: 0.1667\n",
      "Epoch 3/1000\n",
      "167/167 [==============================] - 1s 3ms/step - loss: 0.0736 - acc: 0.2216 - val_loss: 0.0710 - val_acc: 0.1667\n",
      "Epoch 4/1000\n",
      "167/167 [==============================] - 1s 3ms/step - loss: 0.0725 - acc: 0.2036 - val_loss: 0.0707 - val_acc: 0.1667\n",
      "Epoch 5/1000\n",
      "167/167 [==============================] - 0s 3ms/step - loss: 0.0720 - acc: 0.2455 - val_loss: 0.0703 - val_acc: 0.1667\n",
      "Epoch 6/1000\n",
      "167/167 [==============================] - 0s 2ms/step - loss: 0.0721 - acc: 0.2335 - val_loss: 0.0698 - val_acc: 0.1667\n",
      "Epoch 7/1000\n",
      "167/167 [==============================] - 0s 2ms/step - loss: 0.0721 - acc: 0.2754 - val_loss: 0.0699 - val_acc: 0.1667\n",
      "Epoch 8/1000\n",
      "167/167 [==============================] - 0s 2ms/step - loss: 0.0718 - acc: 0.2335 - val_loss: 0.0698 - val_acc: 0.1667\n",
      "Epoch 9/1000\n",
      "167/167 [==============================] - 0s 2ms/step - loss: 0.0726 - acc: 0.2515 - val_loss: 0.0697 - val_acc: 0.1667\n",
      "Epoch 10/1000\n",
      "167/167 [==============================] - 0s 2ms/step - loss: 0.0720 - acc: 0.2275 - val_loss: 0.0695 - val_acc: 0.1667\n",
      "Epoch 11/1000\n",
      "167/167 [==============================] - 0s 2ms/step - loss: 0.0717 - acc: 0.2335 - val_loss: 0.0693 - val_acc: 0.1667\n",
      "Epoch 12/1000\n",
      "167/167 [==============================] - 0s 2ms/step - loss: 0.0722 - acc: 0.2575 - val_loss: 0.0692 - val_acc: 0.1667\n",
      "Epoch 13/1000\n",
      "167/167 [==============================] - 0s 2ms/step - loss: 0.0709 - acc: 0.2455 - val_loss: 0.0692 - val_acc: 0.1667\n",
      "Epoch 14/1000\n",
      "167/167 [==============================] - 0s 2ms/step - loss: 0.0718 - acc: 0.2335 - val_loss: 0.0692 - val_acc: 0.1667\n",
      "Epoch 15/1000\n",
      "167/167 [==============================] - 0s 2ms/step - loss: 0.0719 - acc: 0.2395 - val_loss: 0.0691 - val_acc: 0.1667\n",
      "Epoch 16/1000\n",
      "167/167 [==============================] - 0s 2ms/step - loss: 0.0725 - acc: 0.2515 - val_loss: 0.0693 - val_acc: 0.1667\n",
      "Epoch 17/1000\n",
      "167/167 [==============================] - 0s 3ms/step - loss: 0.0720 - acc: 0.2455 - val_loss: 0.0693 - val_acc: 0.1667\n",
      "Epoch 18/1000\n",
      "167/167 [==============================] - 0s 2ms/step - loss: 0.0718 - acc: 0.2515 - val_loss: 0.0693 - val_acc: 0.1667\n",
      "Epoch 19/1000\n",
      "167/167 [==============================] - 0s 2ms/step - loss: 0.0716 - acc: 0.2455 - val_loss: 0.0692 - val_acc: 0.1667\n",
      "Epoch 20/1000\n",
      "167/167 [==============================] - ETA: 0s - loss: 0.0722 - acc: 0.265 - 0s 2ms/step - loss: 0.0722 - acc: 0.2515 - val_loss: 0.0692 - val_acc: 0.1667\n",
      "Epoch 21/1000\n",
      "167/167 [==============================] - 0s 2ms/step - loss: 0.0716 - acc: 0.2395 - val_loss: 0.0691 - val_acc: 0.1667\n",
      "Epoch 22/1000\n",
      "167/167 [==============================] - 0s 2ms/step - loss: 0.0718 - acc: 0.2395 - val_loss: 0.0690 - val_acc: 0.1667\n",
      "Epoch 23/1000\n",
      "167/167 [==============================] - 0s 3ms/step - loss: 0.0714 - acc: 0.2635 - val_loss: 0.0690 - val_acc: 0.1667\n",
      "Epoch 24/1000\n",
      "167/167 [==============================] - 0s 3ms/step - loss: 0.0714 - acc: 0.2515 - val_loss: 0.0689 - val_acc: 0.1667\n",
      "Epoch 25/1000\n",
      "167/167 [==============================] - 0s 2ms/step - loss: 0.0719 - acc: 0.2275 - val_loss: 0.0688 - val_acc: 0.1667\n",
      "Epoch 26/1000\n",
      "167/167 [==============================] - 0s 2ms/step - loss: 0.0720 - acc: 0.2335 - val_loss: 0.0687 - val_acc: 0.1667\n",
      "Epoch 27/1000\n",
      "167/167 [==============================] - 0s 2ms/step - loss: 0.0718 - acc: 0.2395 - val_loss: 0.0687 - val_acc: 0.1667\n",
      "Epoch 28/1000\n",
      "167/167 [==============================] - 0s 3ms/step - loss: 0.0716 - acc: 0.2335 - val_loss: 0.0686 - val_acc: 0.1667\n",
      "Epoch 29/1000\n",
      "167/167 [==============================] - 0s 2ms/step - loss: 0.0713 - acc: 0.2455 - val_loss: 0.0686 - val_acc: 0.1667\n",
      "Epoch 30/1000\n",
      "167/167 [==============================] - 0s 2ms/step - loss: 0.0715 - acc: 0.2515 - val_loss: 0.0685 - val_acc: 0.1667\n",
      "Epoch 31/1000\n",
      "167/167 [==============================] - 0s 2ms/step - loss: 0.0710 - acc: 0.2695 - val_loss: 0.0685 - val_acc: 0.1667\n",
      "Epoch 32/1000\n",
      "167/167 [==============================] - 0s 3ms/step - loss: 0.0716 - acc: 0.2635 - val_loss: 0.0686 - val_acc: 0.1667\n",
      "Epoch 33/1000\n",
      "167/167 [==============================] - 0s 3ms/step - loss: 0.0713 - acc: 0.2515 - val_loss: 0.0686 - val_acc: 0.1667\n",
      "Epoch 34/1000\n",
      "167/167 [==============================] - 0s 2ms/step - loss: 0.0715 - acc: 0.2515 - val_loss: 0.0686 - val_acc: 0.1667\n",
      "Epoch 35/1000\n",
      "167/167 [==============================] - 0s 2ms/step - loss: 0.0709 - acc: 0.2455 - val_loss: 0.0685 - val_acc: 0.1667\n",
      "Epoch 36/1000\n",
      "167/167 [==============================] - 0s 2ms/step - loss: 0.0715 - acc: 0.2515 - val_loss: 0.0685 - val_acc: 0.1667\n",
      "Epoch 37/1000\n",
      "167/167 [==============================] - 0s 2ms/step - loss: 0.0714 - acc: 0.2635 - val_loss: 0.0684 - val_acc: 0.1667\n",
      "Epoch 38/1000\n",
      "167/167 [==============================] - 0s 2ms/step - loss: 0.0714 - acc: 0.2515 - val_loss: 0.0684 - val_acc: 0.1667\n",
      "Epoch 39/1000\n",
      "167/167 [==============================] - 0s 2ms/step - loss: 0.0718 - acc: 0.2635 - val_loss: 0.0685 - val_acc: 0.1667\n",
      "Epoch 40/1000\n",
      "167/167 [==============================] - 0s 2ms/step - loss: 0.0712 - acc: 0.2515 - val_loss: 0.0684 - val_acc: 0.1667\n",
      "Epoch 41/1000\n",
      "167/167 [==============================] - 0s 2ms/step - loss: 0.0713 - acc: 0.2575 - val_loss: 0.0684 - val_acc: 0.1667\n",
      "Epoch 42/1000\n",
      "167/167 [==============================] - 0s 2ms/step - loss: 0.0710 - acc: 0.2575 - val_loss: 0.0684 - val_acc: 0.1667\n",
      "Epoch 43/1000\n",
      "167/167 [==============================] - 0s 3ms/step - loss: 0.0708 - acc: 0.2575 - val_loss: 0.0684 - val_acc: 0.1667\n",
      "Epoch 44/1000\n",
      "167/167 [==============================] - 1s 3ms/step - loss: 0.0710 - acc: 0.2455 - val_loss: 0.0684 - val_acc: 0.1667\n",
      "Epoch 45/1000\n",
      "167/167 [==============================] - 0s 3ms/step - loss: 0.0720 - acc: 0.2635 - val_loss: 0.0684 - val_acc: 0.1667\n",
      "Epoch 46/1000\n",
      "167/167 [==============================] - 0s 2ms/step - loss: 0.0716 - acc: 0.2395 - val_loss: 0.0683 - val_acc: 0.1667\n",
      "Epoch 47/1000\n",
      "167/167 [==============================] - 0s 2ms/step - loss: 0.0714 - acc: 0.2515 - val_loss: 0.0682 - val_acc: 0.1667\n",
      "Epoch 48/1000\n",
      "167/167 [==============================] - 0s 2ms/step - loss: 0.0712 - acc: 0.2515 - val_loss: 0.0680 - val_acc: 0.1667\n",
      "Epoch 49/1000\n",
      "167/167 [==============================] - 0s 3ms/step - loss: 0.0712 - acc: 0.2575 - val_loss: 0.0680 - val_acc: 0.1667\n",
      "Epoch 50/1000\n",
      "167/167 [==============================] - 0s 3ms/step - loss: 0.0711 - acc: 0.2515 - val_loss: 0.0679 - val_acc: 0.1667\n",
      "Epoch 51/1000\n",
      "167/167 [==============================] - 0s 2ms/step - loss: 0.0713 - acc: 0.2515 - val_loss: 0.0678 - val_acc: 0.1667\n",
      "Epoch 52/1000\n",
      "167/167 [==============================] - 0s 2ms/step - loss: 0.0715 - acc: 0.2635 - val_loss: 0.0679 - val_acc: 0.1667\n",
      "Epoch 53/1000\n",
      "167/167 [==============================] - ETA: 0s - loss: 0.0714 - acc: 0.250 - 0s 2ms/step - loss: 0.0714 - acc: 0.2515 - val_loss: 0.0680 - val_acc: 0.1667\n",
      "Epoch 54/1000\n",
      "167/167 [==============================] - 0s 2ms/step - loss: 0.0711 - acc: 0.2455 - val_loss: 0.0680 - val_acc: 0.1667\n",
      "Epoch 55/1000\n",
      "167/167 [==============================] - 0s 2ms/step - loss: 0.0716 - acc: 0.2515 - val_loss: 0.0679 - val_acc: 0.1667\n",
      "Epoch 56/1000\n",
      "167/167 [==============================] - 0s 3ms/step - loss: 0.0712 - acc: 0.2515 - val_loss: 0.0678 - val_acc: 0.1667\n",
      "Epoch 57/1000\n",
      "167/167 [==============================] - 0s 2ms/step - loss: 0.0717 - acc: 0.2515 - val_loss: 0.0678 - val_acc: 0.1667\n",
      "Epoch 58/1000\n",
      "167/167 [==============================] - 0s 3ms/step - loss: 0.0712 - acc: 0.2515 - val_loss: 0.0677 - val_acc: 0.1667\n",
      "Epoch 59/1000\n",
      "167/167 [==============================] - 0s 2ms/step - loss: 0.0712 - acc: 0.2515 - val_loss: 0.0677 - val_acc: 0.1667\n",
      "Epoch 60/1000\n",
      "167/167 [==============================] - 0s 2ms/step - loss: 0.0710 - acc: 0.2515 - val_loss: 0.0677 - val_acc: 0.1667\n"
     ]
    },
    {
     "name": "stdout",
     "output_type": "stream",
     "text": [
      "Epoch 61/1000\n",
      "167/167 [==============================] - 0s 2ms/step - loss: 0.0708 - acc: 0.2515 - val_loss: 0.0677 - val_acc: 0.1667\n",
      "Epoch 62/1000\n",
      "167/167 [==============================] - 1s 3ms/step - loss: 0.0715 - acc: 0.2515 - val_loss: 0.0676 - val_acc: 0.1667\n",
      "Epoch 63/1000\n",
      "167/167 [==============================] - 0s 2ms/step - loss: 0.0714 - acc: 0.2575 - val_loss: 0.0676 - val_acc: 0.1667\n",
      "Epoch 64/1000\n",
      "167/167 [==============================] - 0s 2ms/step - loss: 0.0711 - acc: 0.2515 - val_loss: 0.0676 - val_acc: 0.1667\n",
      "Epoch 65/1000\n",
      "167/167 [==============================] - 0s 3ms/step - loss: 0.0719 - acc: 0.2515 - val_loss: 0.0677 - val_acc: 0.1667\n",
      "Epoch 66/1000\n",
      "167/167 [==============================] - 0s 2ms/step - loss: 0.0713 - acc: 0.2515 - val_loss: 0.0677 - val_acc: 0.1667\n",
      "Epoch 67/1000\n",
      "167/167 [==============================] - 0s 3ms/step - loss: 0.0714 - acc: 0.2515 - val_loss: 0.0678 - val_acc: 0.1667\n",
      "Epoch 68/1000\n",
      "167/167 [==============================] - 0s 3ms/step - loss: 0.0715 - acc: 0.2515 - val_loss: 0.0678 - val_acc: 0.1667\n",
      "Epoch 69/1000\n",
      "167/167 [==============================] - 0s 2ms/step - loss: 0.0714 - acc: 0.2515 - val_loss: 0.0678 - val_acc: 0.1667\n",
      "Epoch 70/1000\n",
      "167/167 [==============================] - 0s 2ms/step - loss: 0.0711 - acc: 0.2515 - val_loss: 0.0679 - val_acc: 0.1667\n",
      "Epoch 71/1000\n",
      "167/167 [==============================] - 0s 1ms/step - loss: 0.0712 - acc: 0.2515 - val_loss: 0.0680 - val_acc: 0.1667\n",
      "Epoch 72/1000\n",
      "167/167 [==============================] - 0s 3ms/step - loss: 0.0709 - acc: 0.2515 - val_loss: 0.0679 - val_acc: 0.1667\n",
      "Epoch 73/1000\n",
      "167/167 [==============================] - 0s 2ms/step - loss: 0.0712 - acc: 0.2515 - val_loss: 0.0679 - val_acc: 0.1667\n",
      "Epoch 74/1000\n",
      "167/167 [==============================] - 0s 2ms/step - loss: 0.0712 - acc: 0.2515 - val_loss: 0.0678 - val_acc: 0.1667\n",
      "Epoch 75/1000\n",
      "167/167 [==============================] - 0s 2ms/step - loss: 0.0711 - acc: 0.2515 - val_loss: 0.0679 - val_acc: 0.1667\n",
      "Epoch 76/1000\n",
      "167/167 [==============================] - 0s 2ms/step - loss: 0.0712 - acc: 0.2515 - val_loss: 0.0679 - val_acc: 0.1667\n",
      "Epoch 77/1000\n",
      "167/167 [==============================] - 0s 2ms/step - loss: 0.0713 - acc: 0.2515 - val_loss: 0.0679 - val_acc: 0.1667\n",
      "Epoch 78/1000\n",
      "167/167 [==============================] - 0s 3ms/step - loss: 0.0714 - acc: 0.2515 - val_loss: 0.0679 - val_acc: 0.1667\n",
      "Epoch 79/1000\n",
      "167/167 [==============================] - 0s 2ms/step - loss: 0.0714 - acc: 0.2515 - val_loss: 0.0679 - val_acc: 0.1667\n",
      "Epoch 80/1000\n",
      "167/167 [==============================] - 0s 2ms/step - loss: 0.0711 - acc: 0.2515 - val_loss: 0.0679 - val_acc: 0.1667\n",
      "Epoch 81/1000\n",
      "167/167 [==============================] - 0s 3ms/step - loss: 0.0712 - acc: 0.2515 - val_loss: 0.0680 - val_acc: 0.1667\n",
      "Epoch 82/1000\n",
      "167/167 [==============================] - 0s 2ms/step - loss: 0.0710 - acc: 0.2515 - val_loss: 0.0680 - val_acc: 0.1667\n",
      "Epoch 83/1000\n",
      "167/167 [==============================] - 0s 2ms/step - loss: 0.0711 - acc: 0.2515 - val_loss: 0.0681 - val_acc: 0.1667\n",
      "Epoch 84/1000\n",
      "167/167 [==============================] - 0s 3ms/step - loss: 0.0715 - acc: 0.2515 - val_loss: 0.0681 - val_acc: 0.1667\n",
      "Epoch 85/1000\n",
      "167/167 [==============================] - 0s 2ms/step - loss: 0.0711 - acc: 0.2515 - val_loss: 0.0681 - val_acc: 0.1667\n",
      "Epoch 86/1000\n",
      "167/167 [==============================] - 0s 2ms/step - loss: 0.0711 - acc: 0.2515 - val_loss: 0.0681 - val_acc: 0.1667\n",
      "Epoch 87/1000\n",
      "167/167 [==============================] - 0s 2ms/step - loss: 0.0712 - acc: 0.2515 - val_loss: 0.0681 - val_acc: 0.1667\n",
      "Epoch 88/1000\n",
      "167/167 [==============================] - 0s 2ms/step - loss: 0.0711 - acc: 0.2515 - val_loss: 0.0680 - val_acc: 0.1667\n",
      "Epoch 89/1000\n"
     ]
    },
    {
     "ename": "SystemError",
     "evalue": "<built-in function EventsWriter_Flush> returned a result with an error set",
     "output_type": "error",
     "traceback": [
      "\u001b[1;31m---------------------------------------------------------------------------\u001b[0m",
      "\u001b[1;31mKeyboardInterrupt\u001b[0m                         Traceback (most recent call last)",
      "\u001b[1;32mE:\\ProgramData\\Anaconda3\\envs\\py35\\lib\\site-packages\\tensorflow\\python\\pywrap_tensorflow_internal.py\u001b[0m in \u001b[0;36m<lambda>\u001b[1;34m(self, name, value)\u001b[0m\n\u001b[0;32m    613\u001b[0m     \u001b[0m__swig_setmethods__\u001b[0m \u001b[1;33m=\u001b[0m \u001b[1;33m{\u001b[0m\u001b[1;33m}\u001b[0m\u001b[1;33m\u001b[0m\u001b[0m\n\u001b[1;32m--> 614\u001b[1;33m     \u001b[0m__setattr__\u001b[0m \u001b[1;33m=\u001b[0m \u001b[1;32mlambda\u001b[0m \u001b[0mself\u001b[0m\u001b[1;33m,\u001b[0m \u001b[0mname\u001b[0m\u001b[1;33m,\u001b[0m \u001b[0mvalue\u001b[0m\u001b[1;33m:\u001b[0m \u001b[0m_swig_setattr\u001b[0m\u001b[1;33m(\u001b[0m\u001b[0mself\u001b[0m\u001b[1;33m,\u001b[0m \u001b[0mStatus\u001b[0m\u001b[1;33m,\u001b[0m \u001b[0mname\u001b[0m\u001b[1;33m,\u001b[0m \u001b[0mvalue\u001b[0m\u001b[1;33m)\u001b[0m\u001b[1;33m\u001b[0m\u001b[0m\n\u001b[0m\u001b[0;32m    615\u001b[0m     \u001b[0m__swig_getmethods__\u001b[0m \u001b[1;33m=\u001b[0m \u001b[1;33m{\u001b[0m\u001b[1;33m}\u001b[0m\u001b[1;33m\u001b[0m\u001b[0m\n",
      "\u001b[1;31mKeyboardInterrupt\u001b[0m: ",
      "\nDuring handling of the above exception, another exception occurred:\n",
      "\u001b[1;31mSystemError\u001b[0m                               Traceback (most recent call last)",
      "\u001b[1;32m<ipython-input-13-ba5317777fc8>\u001b[0m in \u001b[0;36m<module>\u001b[1;34m()\u001b[0m\n\u001b[1;32m----> 1\u001b[1;33m \u001b[0mmodel\u001b[0m\u001b[1;33m.\u001b[0m\u001b[0mfit\u001b[0m\u001b[1;33m(\u001b[0m\u001b[0mX\u001b[0m\u001b[1;33m,\u001b[0m \u001b[0mY\u001b[0m\u001b[1;33m,\u001b[0m \u001b[0mepochs\u001b[0m\u001b[1;33m=\u001b[0m\u001b[1;36m1000\u001b[0m\u001b[1;33m,\u001b[0m \u001b[0mbatch_size\u001b[0m\u001b[1;33m=\u001b[0m\u001b[1;36m16\u001b[0m\u001b[1;33m,\u001b[0m \u001b[0mvalidation_split\u001b[0m\u001b[1;33m=\u001b[0m\u001b[1;36m0.15\u001b[0m\u001b[1;33m,\u001b[0m \u001b[0mcallbacks\u001b[0m\u001b[1;33m=\u001b[0m\u001b[1;33m[\u001b[0m\u001b[0mtensorboard\u001b[0m\u001b[1;33m]\u001b[0m\u001b[1;33m)\u001b[0m\u001b[1;33m\u001b[0m\u001b[0m\n\u001b[0m",
      "\u001b[1;32mE:\\ProgramData\\Anaconda3\\envs\\py35\\lib\\site-packages\\tensorflow\\python\\keras\\engine\\training.py\u001b[0m in \u001b[0;36mfit\u001b[1;34m(self, x, y, batch_size, epochs, verbose, callbacks, validation_split, validation_data, shuffle, class_weight, sample_weight, initial_epoch, steps_per_epoch, validation_steps, max_queue_size, workers, use_multiprocessing, **kwargs)\u001b[0m\n\u001b[0;32m   1637\u001b[0m           \u001b[0minitial_epoch\u001b[0m\u001b[1;33m=\u001b[0m\u001b[0minitial_epoch\u001b[0m\u001b[1;33m,\u001b[0m\u001b[1;33m\u001b[0m\u001b[0m\n\u001b[0;32m   1638\u001b[0m           \u001b[0msteps_per_epoch\u001b[0m\u001b[1;33m=\u001b[0m\u001b[0msteps_per_epoch\u001b[0m\u001b[1;33m,\u001b[0m\u001b[1;33m\u001b[0m\u001b[0m\n\u001b[1;32m-> 1639\u001b[1;33m           validation_steps=validation_steps)\n\u001b[0m\u001b[0;32m   1640\u001b[0m \u001b[1;33m\u001b[0m\u001b[0m\n\u001b[0;32m   1641\u001b[0m   def evaluate(self,\n",
      "\u001b[1;32mE:\\ProgramData\\Anaconda3\\envs\\py35\\lib\\site-packages\\tensorflow\\python\\keras\\engine\\training_arrays.py\u001b[0m in \u001b[0;36mfit_loop\u001b[1;34m(model, inputs, targets, sample_weights, batch_size, epochs, verbose, callbacks, val_inputs, val_targets, val_sample_weights, shuffle, initial_epoch, steps_per_epoch, validation_steps)\u001b[0m\n\u001b[0;32m    219\u001b[0m           \u001b[0mbatch_logs\u001b[0m\u001b[1;33m[\u001b[0m\u001b[0ml\u001b[0m\u001b[1;33m]\u001b[0m \u001b[1;33m=\u001b[0m \u001b[0mo\u001b[0m\u001b[1;33m\u001b[0m\u001b[0m\n\u001b[0;32m    220\u001b[0m \u001b[1;33m\u001b[0m\u001b[0m\n\u001b[1;32m--> 221\u001b[1;33m         \u001b[0mcallbacks\u001b[0m\u001b[1;33m.\u001b[0m\u001b[0mon_batch_end\u001b[0m\u001b[1;33m(\u001b[0m\u001b[0mbatch_index\u001b[0m\u001b[1;33m,\u001b[0m \u001b[0mbatch_logs\u001b[0m\u001b[1;33m)\u001b[0m\u001b[1;33m\u001b[0m\u001b[0m\n\u001b[0m\u001b[0;32m    222\u001b[0m         \u001b[1;32mif\u001b[0m \u001b[0mcallbacks\u001b[0m\u001b[1;33m.\u001b[0m\u001b[0mmodel\u001b[0m\u001b[1;33m.\u001b[0m\u001b[0mstop_training\u001b[0m\u001b[1;33m:\u001b[0m\u001b[1;33m\u001b[0m\u001b[0m\n\u001b[0;32m    223\u001b[0m           \u001b[1;32mbreak\u001b[0m\u001b[1;33m\u001b[0m\u001b[0m\n",
      "\u001b[1;32mE:\\ProgramData\\Anaconda3\\envs\\py35\\lib\\site-packages\\tensorflow\\python\\keras\\callbacks.py\u001b[0m in \u001b[0;36mon_batch_end\u001b[1;34m(self, batch, logs)\u001b[0m\n\u001b[0;32m    247\u001b[0m     \u001b[0mt_before_callbacks\u001b[0m \u001b[1;33m=\u001b[0m \u001b[0mtime\u001b[0m\u001b[1;33m.\u001b[0m\u001b[0mtime\u001b[0m\u001b[1;33m(\u001b[0m\u001b[1;33m)\u001b[0m\u001b[1;33m\u001b[0m\u001b[0m\n\u001b[0;32m    248\u001b[0m     \u001b[1;32mfor\u001b[0m \u001b[0mcallback\u001b[0m \u001b[1;32min\u001b[0m \u001b[0mself\u001b[0m\u001b[1;33m.\u001b[0m\u001b[0mcallbacks\u001b[0m\u001b[1;33m:\u001b[0m\u001b[1;33m\u001b[0m\u001b[0m\n\u001b[1;32m--> 249\u001b[1;33m       \u001b[0mcallback\u001b[0m\u001b[1;33m.\u001b[0m\u001b[0mon_batch_end\u001b[0m\u001b[1;33m(\u001b[0m\u001b[0mbatch\u001b[0m\u001b[1;33m,\u001b[0m \u001b[0mlogs\u001b[0m\u001b[1;33m)\u001b[0m\u001b[1;33m\u001b[0m\u001b[0m\n\u001b[0m\u001b[0;32m    250\u001b[0m     \u001b[0mself\u001b[0m\u001b[1;33m.\u001b[0m\u001b[0m_delta_ts_batch_end\u001b[0m\u001b[1;33m.\u001b[0m\u001b[0mappend\u001b[0m\u001b[1;33m(\u001b[0m\u001b[0mtime\u001b[0m\u001b[1;33m.\u001b[0m\u001b[0mtime\u001b[0m\u001b[1;33m(\u001b[0m\u001b[1;33m)\u001b[0m \u001b[1;33m-\u001b[0m \u001b[0mt_before_callbacks\u001b[0m\u001b[1;33m)\u001b[0m\u001b[1;33m\u001b[0m\u001b[0m\n\u001b[0;32m    251\u001b[0m     \u001b[0mdelta_t_median\u001b[0m \u001b[1;33m=\u001b[0m \u001b[0mnp\u001b[0m\u001b[1;33m.\u001b[0m\u001b[0mmedian\u001b[0m\u001b[1;33m(\u001b[0m\u001b[0mself\u001b[0m\u001b[1;33m.\u001b[0m\u001b[0m_delta_ts_batch_end\u001b[0m\u001b[1;33m)\u001b[0m\u001b[1;33m\u001b[0m\u001b[0m\n",
      "\u001b[1;32mE:\\ProgramData\\Anaconda3\\envs\\py35\\lib\\site-packages\\tensorflow\\python\\keras\\callbacks.py\u001b[0m in \u001b[0;36mon_batch_end\u001b[1;34m(self, batch, logs)\u001b[0m\n\u001b[0;32m   1076\u001b[0m                   \u001b[1;32mfor\u001b[0m \u001b[0mk\u001b[0m\u001b[1;33m,\u001b[0m \u001b[0mv\u001b[0m \u001b[1;32min\u001b[0m \u001b[0mlogs\u001b[0m\u001b[1;33m.\u001b[0m\u001b[0mitems\u001b[0m\u001b[1;33m(\u001b[0m\u001b[1;33m)\u001b[0m\u001b[1;33m\u001b[0m\u001b[0m\n\u001b[0;32m   1077\u001b[0m                   if k not in ['batch', 'size', 'num_steps']}\n\u001b[1;32m-> 1078\u001b[1;33m     \u001b[0mself\u001b[0m\u001b[1;33m.\u001b[0m\u001b[0m_write_custom_summaries\u001b[0m\u001b[1;33m(\u001b[0m\u001b[0mself\u001b[0m\u001b[1;33m.\u001b[0m\u001b[0m_total_batches_seen\u001b[0m\u001b[1;33m,\u001b[0m \u001b[0mbatch_logs\u001b[0m\u001b[1;33m)\u001b[0m\u001b[1;33m\u001b[0m\u001b[0m\n\u001b[0m\u001b[0;32m   1079\u001b[0m     \u001b[0mself\u001b[0m\u001b[1;33m.\u001b[0m\u001b[0m_total_batches_seen\u001b[0m \u001b[1;33m+=\u001b[0m \u001b[1;36m1\u001b[0m\u001b[1;33m\u001b[0m\u001b[0m\n\u001b[0;32m   1080\u001b[0m \u001b[1;33m\u001b[0m\u001b[0m\n",
      "\u001b[1;32mE:\\ProgramData\\Anaconda3\\envs\\py35\\lib\\site-packages\\tensorflow\\python\\keras\\callbacks.py\u001b[0m in \u001b[0;36m_write_custom_summaries\u001b[1;34m(self, step, logs)\u001b[0m\n\u001b[0;32m   1051\u001b[0m         \u001b[0msummary_value\u001b[0m\u001b[1;33m.\u001b[0m\u001b[0mtag\u001b[0m \u001b[1;33m=\u001b[0m \u001b[0mname\u001b[0m\u001b[1;33m\u001b[0m\u001b[0m\n\u001b[0;32m   1052\u001b[0m         \u001b[0mself\u001b[0m\u001b[1;33m.\u001b[0m\u001b[0mwriter\u001b[0m\u001b[1;33m.\u001b[0m\u001b[0madd_summary\u001b[0m\u001b[1;33m(\u001b[0m\u001b[0msummary\u001b[0m\u001b[1;33m,\u001b[0m \u001b[0mstep\u001b[0m\u001b[1;33m)\u001b[0m\u001b[1;33m\u001b[0m\u001b[0m\n\u001b[1;32m-> 1053\u001b[1;33m     \u001b[0mself\u001b[0m\u001b[1;33m.\u001b[0m\u001b[0mwriter\u001b[0m\u001b[1;33m.\u001b[0m\u001b[0mflush\u001b[0m\u001b[1;33m(\u001b[0m\u001b[1;33m)\u001b[0m\u001b[1;33m\u001b[0m\u001b[0m\n\u001b[0m\u001b[0;32m   1054\u001b[0m \u001b[1;33m\u001b[0m\u001b[0m\n\u001b[0;32m   1055\u001b[0m   \u001b[1;32mdef\u001b[0m \u001b[0mon_train_begin\u001b[0m\u001b[1;33m(\u001b[0m\u001b[0mself\u001b[0m\u001b[1;33m,\u001b[0m \u001b[0mlogs\u001b[0m\u001b[1;33m=\u001b[0m\u001b[1;32mNone\u001b[0m\u001b[1;33m)\u001b[0m\u001b[1;33m:\u001b[0m\u001b[1;33m\u001b[0m\u001b[0m\n",
      "\u001b[1;32mE:\\ProgramData\\Anaconda3\\envs\\py35\\lib\\site-packages\\tensorflow\\python\\summary\\writer\\writer.py\u001b[0m in \u001b[0;36mflush\u001b[1;34m(self)\u001b[0m\n\u001b[0;32m    393\u001b[0m     \u001b[0mdisk\u001b[0m\u001b[1;33m.\u001b[0m\u001b[1;33m\u001b[0m\u001b[0m\n\u001b[0;32m    394\u001b[0m     \"\"\"\n\u001b[1;32m--> 395\u001b[1;33m     \u001b[0mself\u001b[0m\u001b[1;33m.\u001b[0m\u001b[0mevent_writer\u001b[0m\u001b[1;33m.\u001b[0m\u001b[0mflush\u001b[0m\u001b[1;33m(\u001b[0m\u001b[1;33m)\u001b[0m\u001b[1;33m\u001b[0m\u001b[0m\n\u001b[0m\u001b[0;32m    396\u001b[0m \u001b[1;33m\u001b[0m\u001b[0m\n\u001b[0;32m    397\u001b[0m   \u001b[1;32mdef\u001b[0m \u001b[0mclose\u001b[0m\u001b[1;33m(\u001b[0m\u001b[0mself\u001b[0m\u001b[1;33m)\u001b[0m\u001b[1;33m:\u001b[0m\u001b[1;33m\u001b[0m\u001b[0m\n",
      "\u001b[1;32mE:\\ProgramData\\Anaconda3\\envs\\py35\\lib\\site-packages\\tensorflow\\python\\summary\\writer\\event_file_writer.py\u001b[0m in \u001b[0;36mflush\u001b[1;34m(self)\u001b[0m\n\u001b[0;32m    117\u001b[0m     \"\"\"\n\u001b[0;32m    118\u001b[0m     \u001b[0mself\u001b[0m\u001b[1;33m.\u001b[0m\u001b[0m_event_queue\u001b[0m\u001b[1;33m.\u001b[0m\u001b[0mjoin\u001b[0m\u001b[1;33m(\u001b[0m\u001b[1;33m)\u001b[0m\u001b[1;33m\u001b[0m\u001b[0m\n\u001b[1;32m--> 119\u001b[1;33m     \u001b[0mself\u001b[0m\u001b[1;33m.\u001b[0m\u001b[0m_ev_writer\u001b[0m\u001b[1;33m.\u001b[0m\u001b[0mFlush\u001b[0m\u001b[1;33m(\u001b[0m\u001b[1;33m)\u001b[0m\u001b[1;33m\u001b[0m\u001b[0m\n\u001b[0m\u001b[0;32m    120\u001b[0m \u001b[1;33m\u001b[0m\u001b[0m\n\u001b[0;32m    121\u001b[0m   \u001b[1;32mdef\u001b[0m \u001b[0mclose\u001b[0m\u001b[1;33m(\u001b[0m\u001b[0mself\u001b[0m\u001b[1;33m)\u001b[0m\u001b[1;33m:\u001b[0m\u001b[1;33m\u001b[0m\u001b[0m\n",
      "\u001b[1;32mE:\\ProgramData\\Anaconda3\\envs\\py35\\lib\\site-packages\\tensorflow\\python\\pywrap_tensorflow_internal.py\u001b[0m in \u001b[0;36mFlush\u001b[1;34m(self)\u001b[0m\n\u001b[0;32m    697\u001b[0m \u001b[1;33m\u001b[0m\u001b[0m\n\u001b[0;32m    698\u001b[0m     \u001b[1;32mdef\u001b[0m \u001b[0mFlush\u001b[0m\u001b[1;33m(\u001b[0m\u001b[0mself\u001b[0m\u001b[1;33m)\u001b[0m\u001b[1;33m:\u001b[0m\u001b[1;33m\u001b[0m\u001b[0m\n\u001b[1;32m--> 699\u001b[1;33m         \u001b[1;32mreturn\u001b[0m \u001b[0m_pywrap_tensorflow_internal\u001b[0m\u001b[1;33m.\u001b[0m\u001b[0mEventsWriter_Flush\u001b[0m\u001b[1;33m(\u001b[0m\u001b[0mself\u001b[0m\u001b[1;33m)\u001b[0m\u001b[1;33m\u001b[0m\u001b[0m\n\u001b[0m\u001b[0;32m    700\u001b[0m \u001b[1;33m\u001b[0m\u001b[0m\n\u001b[0;32m    701\u001b[0m     \u001b[1;32mdef\u001b[0m \u001b[0mClose\u001b[0m\u001b[1;33m(\u001b[0m\u001b[0mself\u001b[0m\u001b[1;33m)\u001b[0m\u001b[1;33m:\u001b[0m\u001b[1;33m\u001b[0m\u001b[0m\n",
      "\u001b[1;31mSystemError\u001b[0m: <built-in function EventsWriter_Flush> returned a result with an error set"
     ]
    }
   ],
   "source": [
    "model.fit(X, Y, epochs=1000, batch_size=16, validation_split=0.15, callbacks=[tensorboard])"
   ]
  },
  {
   "cell_type": "code",
   "execution_count": 23,
   "metadata": {},
   "outputs": [
    {
     "name": "stdout",
     "output_type": "stream",
     "text": [
      "1/1 [==============================] - 0s 121ms/step\n",
      "\n",
      "acc: 0.00%\n",
      "[[0.41290323 0.39354839 0.32903226 0.3483871  0.43225806 0.41935484\n",
      "  0.43870968 0.42580645]]\n",
      "[[0.83562902 0.25711662 0.35812672 0.48668503 0.18365473]]\n",
      "[[0.3102837  0.5872851  0.6991706  0.6874344  0.35337234]]\n"
     ]
    }
   ],
   "source": [
    "scores = model.evaluate(X[:1], Y[:1])\n",
    "print(\"\\n%s: %.2f%%\" % (model.metrics_names[1], scores[1]*100))\n",
    "print(X[:1])\n",
    "print(Y[:1])\n",
    "print(model.predict(X[:1]))"
   ]
  },
  {
   "cell_type": "code",
   "execution_count": 63,
   "metadata": {},
   "outputs": [],
   "source": [
    "from __future__ import print_function\n",
    "from myo.utils import TimeInterval\n",
    "import myo\n",
    "import sys\n",
    "import os\n",
    "\n",
    "import serial\n",
    "\n",
    "\n",
    "class Listener(myo.DeviceListener):\n",
    "    \n",
    "    def __init__(self):\n",
    "        self.interval = TimeInterval(None, 0.05)\n",
    "        self.acceleration = None\n",
    "        self.gyroscope = None\n",
    "        self.orientation = None\n",
    "        self.pose = myo.Pose.rest\n",
    "        self.emg_enabled = True\n",
    "        self.locked = False\n",
    "        self.rssi = None\n",
    "        self.emg = None\n",
    "        self.temp = 0\n",
    "        self.arduino = serial.Serial('COM14', 9600)\n",
    "\n",
    "    def output(self):\n",
    "        if not self.interval.check_and_reset():\n",
    "            return\n",
    "        self.temp = self.temp + 1\n",
    "        if self.temp == 5:\n",
    "            self.temp = 0\n",
    "        os.system('cls')\n",
    "        parts = []\n",
    "        if self.emg:\n",
    "            for comp in self.emg:\n",
    "                parts.append(str(comp).ljust(5))\n",
    "        vectornp = np.asarray(vector)\n",
    "        vectornp = vectornp / 90.0\n",
    "        print(vectornp.shape)\n",
    "        \n",
    "    def on_emg(self, event):\n",
    "        self.emg = event.emg\n",
    "        self.output()\n",
    "\n",
    "\n",
    "    def on_connected(self, event):\n",
    "        event.device.request_rssi()\n"
   ]
  },
  {
   "cell_type": "code",
   "execution_count": 65,
   "metadata": {},
   "outputs": [
    {
     "ename": "SerialException",
     "evalue": "could not open port 'COM14': PermissionError(13, 'Acceso denegado.', None, 5)",
     "output_type": "error",
     "traceback": [
      "\u001b[1;31m---------------------------------------------------------------------------\u001b[0m",
      "\u001b[1;31mSerialException\u001b[0m                           Traceback (most recent call last)",
      "\u001b[1;32m<ipython-input-65-35ab7b5d7d76>\u001b[0m in \u001b[0;36m<module>\u001b[1;34m()\u001b[0m\n\u001b[0;32m      1\u001b[0m \u001b[0mmyo\u001b[0m\u001b[1;33m.\u001b[0m\u001b[0minit\u001b[0m\u001b[1;33m(\u001b[0m\u001b[1;33m)\u001b[0m\u001b[1;33m\u001b[0m\u001b[0m\n\u001b[0;32m      2\u001b[0m \u001b[0mhub\u001b[0m \u001b[1;33m=\u001b[0m \u001b[0mmyo\u001b[0m\u001b[1;33m.\u001b[0m\u001b[0mHub\u001b[0m\u001b[1;33m(\u001b[0m\u001b[1;33m)\u001b[0m\u001b[1;33m\u001b[0m\u001b[0m\n\u001b[1;32m----> 3\u001b[1;33m \u001b[0mlistener\u001b[0m \u001b[1;33m=\u001b[0m \u001b[0mListener\u001b[0m\u001b[1;33m(\u001b[0m\u001b[1;33m)\u001b[0m\u001b[1;33m\u001b[0m\u001b[0m\n\u001b[0m\u001b[0;32m      4\u001b[0m \u001b[0mlistener\u001b[0m\u001b[1;33m.\u001b[0m\u001b[0marduino\u001b[0m\u001b[1;33m.\u001b[0m\u001b[0mclose\u001b[0m\u001b[1;33m(\u001b[0m\u001b[1;33m)\u001b[0m\u001b[1;33m\u001b[0m\u001b[0m\n",
      "\u001b[1;32m<ipython-input-63-3a11e9728092>\u001b[0m in \u001b[0;36m__init__\u001b[1;34m(self)\u001b[0m\n\u001b[0;32m     21\u001b[0m         \u001b[0mself\u001b[0m\u001b[1;33m.\u001b[0m\u001b[0memg\u001b[0m \u001b[1;33m=\u001b[0m \u001b[1;32mNone\u001b[0m\u001b[1;33m\u001b[0m\u001b[0m\n\u001b[0;32m     22\u001b[0m         \u001b[0mself\u001b[0m\u001b[1;33m.\u001b[0m\u001b[0mtemp\u001b[0m \u001b[1;33m=\u001b[0m \u001b[1;36m0\u001b[0m\u001b[1;33m\u001b[0m\u001b[0m\n\u001b[1;32m---> 23\u001b[1;33m         \u001b[0mself\u001b[0m\u001b[1;33m.\u001b[0m\u001b[0marduino\u001b[0m \u001b[1;33m=\u001b[0m \u001b[0mserial\u001b[0m\u001b[1;33m.\u001b[0m\u001b[0mSerial\u001b[0m\u001b[1;33m(\u001b[0m\u001b[1;34m'COM14'\u001b[0m\u001b[1;33m,\u001b[0m \u001b[1;36m9600\u001b[0m\u001b[1;33m)\u001b[0m\u001b[1;33m\u001b[0m\u001b[0m\n\u001b[0m\u001b[0;32m     24\u001b[0m \u001b[1;33m\u001b[0m\u001b[0m\n\u001b[0;32m     25\u001b[0m     \u001b[1;32mdef\u001b[0m \u001b[0moutput\u001b[0m\u001b[1;33m(\u001b[0m\u001b[0mself\u001b[0m\u001b[1;33m)\u001b[0m\u001b[1;33m:\u001b[0m\u001b[1;33m\u001b[0m\u001b[0m\n",
      "\u001b[1;32mc:\\programdata\\miniconda3\\lib\\site-packages\\serial\\serialwin32.py\u001b[0m in \u001b[0;36m__init__\u001b[1;34m(self, *args, **kwargs)\u001b[0m\n\u001b[0;32m     29\u001b[0m         \u001b[0mself\u001b[0m\u001b[1;33m.\u001b[0m\u001b[0m_overlapped_read\u001b[0m \u001b[1;33m=\u001b[0m \u001b[1;32mNone\u001b[0m\u001b[1;33m\u001b[0m\u001b[0m\n\u001b[0;32m     30\u001b[0m         \u001b[0mself\u001b[0m\u001b[1;33m.\u001b[0m\u001b[0m_overlapped_write\u001b[0m \u001b[1;33m=\u001b[0m \u001b[1;32mNone\u001b[0m\u001b[1;33m\u001b[0m\u001b[0m\n\u001b[1;32m---> 31\u001b[1;33m         \u001b[0msuper\u001b[0m\u001b[1;33m(\u001b[0m\u001b[0mSerial\u001b[0m\u001b[1;33m,\u001b[0m \u001b[0mself\u001b[0m\u001b[1;33m)\u001b[0m\u001b[1;33m.\u001b[0m\u001b[0m__init__\u001b[0m\u001b[1;33m(\u001b[0m\u001b[1;33m*\u001b[0m\u001b[0margs\u001b[0m\u001b[1;33m,\u001b[0m \u001b[1;33m**\u001b[0m\u001b[0mkwargs\u001b[0m\u001b[1;33m)\u001b[0m\u001b[1;33m\u001b[0m\u001b[0m\n\u001b[0m\u001b[0;32m     32\u001b[0m \u001b[1;33m\u001b[0m\u001b[0m\n\u001b[0;32m     33\u001b[0m     \u001b[1;32mdef\u001b[0m \u001b[0mopen\u001b[0m\u001b[1;33m(\u001b[0m\u001b[0mself\u001b[0m\u001b[1;33m)\u001b[0m\u001b[1;33m:\u001b[0m\u001b[1;33m\u001b[0m\u001b[0m\n",
      "\u001b[1;32mc:\\programdata\\miniconda3\\lib\\site-packages\\serial\\serialutil.py\u001b[0m in \u001b[0;36m__init__\u001b[1;34m(self, port, baudrate, bytesize, parity, stopbits, timeout, xonxoff, rtscts, write_timeout, dsrdtr, inter_byte_timeout, exclusive, **kwargs)\u001b[0m\n\u001b[0;32m    238\u001b[0m \u001b[1;33m\u001b[0m\u001b[0m\n\u001b[0;32m    239\u001b[0m         \u001b[1;32mif\u001b[0m \u001b[0mport\u001b[0m \u001b[1;32mis\u001b[0m \u001b[1;32mnot\u001b[0m \u001b[1;32mNone\u001b[0m\u001b[1;33m:\u001b[0m\u001b[1;33m\u001b[0m\u001b[0m\n\u001b[1;32m--> 240\u001b[1;33m             \u001b[0mself\u001b[0m\u001b[1;33m.\u001b[0m\u001b[0mopen\u001b[0m\u001b[1;33m(\u001b[0m\u001b[1;33m)\u001b[0m\u001b[1;33m\u001b[0m\u001b[0m\n\u001b[0m\u001b[0;32m    241\u001b[0m \u001b[1;33m\u001b[0m\u001b[0m\n\u001b[0;32m    242\u001b[0m     \u001b[1;31m#  -  -  -  -  -  -  -  -  -  -  -  -  -  -  -  -  -  -  -  -  -  -  -  -\u001b[0m\u001b[1;33m\u001b[0m\u001b[1;33m\u001b[0m\u001b[0m\n",
      "\u001b[1;32mc:\\programdata\\miniconda3\\lib\\site-packages\\serial\\serialwin32.py\u001b[0m in \u001b[0;36mopen\u001b[1;34m(self)\u001b[0m\n\u001b[0;32m     60\u001b[0m         \u001b[1;32mif\u001b[0m \u001b[0mself\u001b[0m\u001b[1;33m.\u001b[0m\u001b[0m_port_handle\u001b[0m \u001b[1;33m==\u001b[0m \u001b[0mwin32\u001b[0m\u001b[1;33m.\u001b[0m\u001b[0mINVALID_HANDLE_VALUE\u001b[0m\u001b[1;33m:\u001b[0m\u001b[1;33m\u001b[0m\u001b[0m\n\u001b[0;32m     61\u001b[0m             \u001b[0mself\u001b[0m\u001b[1;33m.\u001b[0m\u001b[0m_port_handle\u001b[0m \u001b[1;33m=\u001b[0m \u001b[1;32mNone\u001b[0m    \u001b[1;31m# 'cause __del__ is called anyway\u001b[0m\u001b[1;33m\u001b[0m\u001b[0m\n\u001b[1;32m---> 62\u001b[1;33m             \u001b[1;32mraise\u001b[0m \u001b[0mSerialException\u001b[0m\u001b[1;33m(\u001b[0m\u001b[1;34m\"could not open port {!r}: {!r}\"\u001b[0m\u001b[1;33m.\u001b[0m\u001b[0mformat\u001b[0m\u001b[1;33m(\u001b[0m\u001b[0mself\u001b[0m\u001b[1;33m.\u001b[0m\u001b[0mportstr\u001b[0m\u001b[1;33m,\u001b[0m \u001b[0mctypes\u001b[0m\u001b[1;33m.\u001b[0m\u001b[0mWinError\u001b[0m\u001b[1;33m(\u001b[0m\u001b[1;33m)\u001b[0m\u001b[1;33m)\u001b[0m\u001b[1;33m)\u001b[0m\u001b[1;33m\u001b[0m\u001b[0m\n\u001b[0m\u001b[0;32m     63\u001b[0m \u001b[1;33m\u001b[0m\u001b[0m\n\u001b[0;32m     64\u001b[0m         \u001b[1;32mtry\u001b[0m\u001b[1;33m:\u001b[0m\u001b[1;33m\u001b[0m\u001b[0m\n",
      "\u001b[1;31mSerialException\u001b[0m: could not open port 'COM14': PermissionError(13, 'Acceso denegado.', None, 5)"
     ]
    }
   ],
   "source": [
    "model.save(modelo.h5)"
   ]
  },
  {
   "cell_type": "code",
   "execution_count": null,
   "metadata": {},
   "outputs": [],
   "source": []
  }
 ],
 "metadata": {
  "kernelspec": {
   "display_name": "Python 3",
   "language": "python",
   "name": "python3"
  },
  "language_info": {
   "codemirror_mode": {
    "name": "ipython",
    "version": 3
   },
   "file_extension": ".py",
   "mimetype": "text/x-python",
   "name": "python",
   "nbconvert_exporter": "python",
   "pygments_lexer": "ipython3",
   "version": "3.6.5"
  }
 },
 "nbformat": 4,
 "nbformat_minor": 2
}
